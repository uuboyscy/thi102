{
 "cells": [
  {
   "cell_type": "code",
   "execution_count": 1,
   "metadata": {},
   "outputs": [],
   "source": [
    "import pandas as pd\n",
    "from sqlalchemy import create_engine\n",
    "\n",
    "username = \"root\"\n",
    "password = \"root\"\n",
    "server = \"127.0.0.1\"\n",
    "db_name = \"TESTDB\"\n",
    "\n",
    "conn = create_engine(\n",
    "    f\"mysql+pymysql://{username}:{password}@{server}/{db_name}\",\n",
    ").connect()"
   ]
  },
  {
   "cell_type": "code",
   "execution_count": 2,
   "metadata": {},
   "outputs": [],
   "source": [
    "df = pd.read_sql(\n",
    "    \"select * from staff\",\n",
    "    conn,\n",
    ")"
   ]
  },
  {
   "cell_type": "code",
   "execution_count": 3,
   "metadata": {},
   "outputs": [
    {
     "data": {
      "text/html": [
       "<div>\n",
       "<style scoped>\n",
       "    .dataframe tbody tr th:only-of-type {\n",
       "        vertical-align: middle;\n",
       "    }\n",
       "\n",
       "    .dataframe tbody tr th {\n",
       "        vertical-align: top;\n",
       "    }\n",
       "\n",
       "    .dataframe thead th {\n",
       "        text-align: right;\n",
       "    }\n",
       "</style>\n",
       "<table border=\"1\" class=\"dataframe\">\n",
       "  <thead>\n",
       "    <tr style=\"text-align: right;\">\n",
       "      <th></th>\n",
       "      <th>ID</th>\n",
       "      <th>Name</th>\n",
       "      <th>DeptId</th>\n",
       "      <th>Age</th>\n",
       "      <th>Gender</th>\n",
       "      <th>Salary</th>\n",
       "      <th>recordDt</th>\n",
       "    </tr>\n",
       "  </thead>\n",
       "  <tbody>\n",
       "    <tr>\n",
       "      <th>0</th>\n",
       "      <td>001</td>\n",
       "      <td>Mike</td>\n",
       "      <td>002</td>\n",
       "      <td>45</td>\n",
       "      <td>M</td>\n",
       "      <td>60000</td>\n",
       "      <td>2023-10-22 15:10:00</td>\n",
       "    </tr>\n",
       "    <tr>\n",
       "      <th>1</th>\n",
       "      <td>002</td>\n",
       "      <td>Judy</td>\n",
       "      <td>002</td>\n",
       "      <td>30</td>\n",
       "      <td>F</td>\n",
       "      <td>48000</td>\n",
       "      <td>2023-10-22 15:10:00</td>\n",
       "    </tr>\n",
       "    <tr>\n",
       "      <th>2</th>\n",
       "      <td>003</td>\n",
       "      <td>Allen</td>\n",
       "      <td>001</td>\n",
       "      <td>22</td>\n",
       "      <td>M</td>\n",
       "      <td>50000</td>\n",
       "      <td>2023-10-22 15:10:00</td>\n",
       "    </tr>\n",
       "    <tr>\n",
       "      <th>3</th>\n",
       "      <td>004</td>\n",
       "      <td>Tom</td>\n",
       "      <td>002</td>\n",
       "      <td>47</td>\n",
       "      <td>M</td>\n",
       "      <td>47000</td>\n",
       "      <td>2023-10-22 15:10:00</td>\n",
       "    </tr>\n",
       "    <tr>\n",
       "      <th>4</th>\n",
       "      <td>005</td>\n",
       "      <td>Jack</td>\n",
       "      <td>003</td>\n",
       "      <td>36</td>\n",
       "      <td>M</td>\n",
       "      <td>52000</td>\n",
       "      <td>2023-10-22 15:10:00</td>\n",
       "    </tr>\n",
       "    <tr>\n",
       "      <th>5</th>\n",
       "      <td>006</td>\n",
       "      <td>Abby</td>\n",
       "      <td>002</td>\n",
       "      <td>24</td>\n",
       "      <td>F</td>\n",
       "      <td>45000</td>\n",
       "      <td>2023-10-22 15:10:00</td>\n",
       "    </tr>\n",
       "    <tr>\n",
       "      <th>6</th>\n",
       "      <td>007</td>\n",
       "      <td>Trump</td>\n",
       "      <td>001</td>\n",
       "      <td>80</td>\n",
       "      <td>M</td>\n",
       "      <td>80000</td>\n",
       "      <td>2023-10-22 15:10:00</td>\n",
       "    </tr>\n",
       "    <tr>\n",
       "      <th>7</th>\n",
       "      <td>008</td>\n",
       "      <td>Marry</td>\n",
       "      <td>003</td>\n",
       "      <td>29</td>\n",
       "      <td>F</td>\n",
       "      <td>87000</td>\n",
       "      <td>2023-10-22 15:10:00</td>\n",
       "    </tr>\n",
       "  </tbody>\n",
       "</table>\n",
       "</div>"
      ],
      "text/plain": [
       "    ID   Name DeptId  Age Gender  Salary            recordDt\n",
       "0  001   Mike    002   45      M   60000 2023-10-22 15:10:00\n",
       "1  002   Judy    002   30      F   48000 2023-10-22 15:10:00\n",
       "2  003  Allen    001   22      M   50000 2023-10-22 15:10:00\n",
       "3  004    Tom    002   47      M   47000 2023-10-22 15:10:00\n",
       "4  005   Jack    003   36      M   52000 2023-10-22 15:10:00\n",
       "5  006   Abby    002   24      F   45000 2023-10-22 15:10:00\n",
       "6  007  Trump    001   80      M   80000 2023-10-22 15:10:00\n",
       "7  008  Marry    003   29      F   87000 2023-10-22 15:10:00"
      ]
     },
     "execution_count": 3,
     "metadata": {},
     "output_type": "execute_result"
    }
   ],
   "source": [
    "df"
   ]
  },
  {
   "cell_type": "code",
   "execution_count": 4,
   "metadata": {},
   "outputs": [
    {
     "data": {
      "text/plain": [
       "ID                  object\n",
       "Name                object\n",
       "DeptId              object\n",
       "Age                  int64\n",
       "Gender              object\n",
       "Salary               int64\n",
       "recordDt    datetime64[ns]\n",
       "dtype: object"
      ]
     },
     "execution_count": 4,
     "metadata": {},
     "output_type": "execute_result"
    }
   ],
   "source": [
    "df.dtypes"
   ]
  },
  {
   "cell_type": "code",
   "execution_count": 5,
   "metadata": {},
   "outputs": [],
   "source": [
    "df[\"ID\"] = df[\"ID\"].apply(lambda x: x + \"000\")"
   ]
  },
  {
   "cell_type": "code",
   "execution_count": 6,
   "metadata": {},
   "outputs": [
    {
     "data": {
      "text/html": [
       "<div>\n",
       "<style scoped>\n",
       "    .dataframe tbody tr th:only-of-type {\n",
       "        vertical-align: middle;\n",
       "    }\n",
       "\n",
       "    .dataframe tbody tr th {\n",
       "        vertical-align: top;\n",
       "    }\n",
       "\n",
       "    .dataframe thead th {\n",
       "        text-align: right;\n",
       "    }\n",
       "</style>\n",
       "<table border=\"1\" class=\"dataframe\">\n",
       "  <thead>\n",
       "    <tr style=\"text-align: right;\">\n",
       "      <th></th>\n",
       "      <th>ID</th>\n",
       "      <th>Name</th>\n",
       "      <th>DeptId</th>\n",
       "      <th>Age</th>\n",
       "      <th>Gender</th>\n",
       "      <th>Salary</th>\n",
       "      <th>recordDt</th>\n",
       "    </tr>\n",
       "  </thead>\n",
       "  <tbody>\n",
       "    <tr>\n",
       "      <th>0</th>\n",
       "      <td>001000</td>\n",
       "      <td>Mike</td>\n",
       "      <td>002</td>\n",
       "      <td>45</td>\n",
       "      <td>M</td>\n",
       "      <td>60000</td>\n",
       "      <td>2023-10-22 15:10:00</td>\n",
       "    </tr>\n",
       "    <tr>\n",
       "      <th>1</th>\n",
       "      <td>002000</td>\n",
       "      <td>Judy</td>\n",
       "      <td>002</td>\n",
       "      <td>30</td>\n",
       "      <td>F</td>\n",
       "      <td>48000</td>\n",
       "      <td>2023-10-22 15:10:00</td>\n",
       "    </tr>\n",
       "    <tr>\n",
       "      <th>2</th>\n",
       "      <td>003000</td>\n",
       "      <td>Allen</td>\n",
       "      <td>001</td>\n",
       "      <td>22</td>\n",
       "      <td>M</td>\n",
       "      <td>50000</td>\n",
       "      <td>2023-10-22 15:10:00</td>\n",
       "    </tr>\n",
       "    <tr>\n",
       "      <th>3</th>\n",
       "      <td>004000</td>\n",
       "      <td>Tom</td>\n",
       "      <td>002</td>\n",
       "      <td>47</td>\n",
       "      <td>M</td>\n",
       "      <td>47000</td>\n",
       "      <td>2023-10-22 15:10:00</td>\n",
       "    </tr>\n",
       "    <tr>\n",
       "      <th>4</th>\n",
       "      <td>005000</td>\n",
       "      <td>Jack</td>\n",
       "      <td>003</td>\n",
       "      <td>36</td>\n",
       "      <td>M</td>\n",
       "      <td>52000</td>\n",
       "      <td>2023-10-22 15:10:00</td>\n",
       "    </tr>\n",
       "    <tr>\n",
       "      <th>5</th>\n",
       "      <td>006000</td>\n",
       "      <td>Abby</td>\n",
       "      <td>002</td>\n",
       "      <td>24</td>\n",
       "      <td>F</td>\n",
       "      <td>45000</td>\n",
       "      <td>2023-10-22 15:10:00</td>\n",
       "    </tr>\n",
       "    <tr>\n",
       "      <th>6</th>\n",
       "      <td>007000</td>\n",
       "      <td>Trump</td>\n",
       "      <td>001</td>\n",
       "      <td>80</td>\n",
       "      <td>M</td>\n",
       "      <td>80000</td>\n",
       "      <td>2023-10-22 15:10:00</td>\n",
       "    </tr>\n",
       "    <tr>\n",
       "      <th>7</th>\n",
       "      <td>008000</td>\n",
       "      <td>Marry</td>\n",
       "      <td>003</td>\n",
       "      <td>29</td>\n",
       "      <td>F</td>\n",
       "      <td>87000</td>\n",
       "      <td>2023-10-22 15:10:00</td>\n",
       "    </tr>\n",
       "  </tbody>\n",
       "</table>\n",
       "</div>"
      ],
      "text/plain": [
       "       ID   Name DeptId  Age Gender  Salary            recordDt\n",
       "0  001000   Mike    002   45      M   60000 2023-10-22 15:10:00\n",
       "1  002000   Judy    002   30      F   48000 2023-10-22 15:10:00\n",
       "2  003000  Allen    001   22      M   50000 2023-10-22 15:10:00\n",
       "3  004000    Tom    002   47      M   47000 2023-10-22 15:10:00\n",
       "4  005000   Jack    003   36      M   52000 2023-10-22 15:10:00\n",
       "5  006000   Abby    002   24      F   45000 2023-10-22 15:10:00\n",
       "6  007000  Trump    001   80      M   80000 2023-10-22 15:10:00\n",
       "7  008000  Marry    003   29      F   87000 2023-10-22 15:10:00"
      ]
     },
     "execution_count": 6,
     "metadata": {},
     "output_type": "execute_result"
    }
   ],
   "source": [
    "df"
   ]
  },
  {
   "cell_type": "code",
   "execution_count": 7,
   "metadata": {},
   "outputs": [
    {
     "data": {
      "text/plain": [
       "8"
      ]
     },
     "execution_count": 7,
     "metadata": {},
     "output_type": "execute_result"
    }
   ],
   "source": [
    "df.to_sql(\"staff\", conn, if_exists=\"append\", index=0)"
   ]
  },
  {
   "cell_type": "code",
   "execution_count": 8,
   "metadata": {},
   "outputs": [],
   "source": [
    "conn.commit()"
   ]
  },
  {
   "cell_type": "code",
   "execution_count": null,
   "metadata": {},
   "outputs": [],
   "source": []
  }
 ],
 "metadata": {
  "kernelspec": {
   "display_name": "flask_practice-V1-p43N0",
   "language": "python",
   "name": "python3"
  },
  "language_info": {
   "codemirror_mode": {
    "name": "ipython",
    "version": 3
   },
   "file_extension": ".py",
   "mimetype": "text/x-python",
   "name": "python",
   "nbconvert_exporter": "python",
   "pygments_lexer": "ipython3",
   "version": "3.11.5"
  }
 },
 "nbformat": 4,
 "nbformat_minor": 2
}
